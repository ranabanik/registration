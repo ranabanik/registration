{
 "cells": [
  {
   "cell_type": "markdown",
   "metadata": {},
   "source": [
    "### About registration: \n",
    "There are four elements in a registration framework:\n",
    "- **Two images**: fixed image and moving image.  \n",
    "- **Metric**: \n",
    "- **Optimizer**:\n",
    "- **Interpolator**:\n",
    "\n",
    "Multi-resolution registration is like algorithmic _\"squinting\"_ by using image pyramids. Start registration at easy low resolution images to seed parameters and then to high resolution - _coarse-to-fine_. \n",
    "\n",
    "**Reference**:\n",
    "1. http://insightsoftwareconsortium.github.io/SimpleITK-Notebooks/Python_html/60_Registration_Introduction.html\n",
    "2. for 2D registration suggestion github/zivy https://github.com/InsightSoftwareConsortium/SimpleITK-Notebooks/blob/master/Python/60_Registration_Introduction.ipynb\n",
    "3. This example uses `histogram matcher` for grayscale source image: https://simpleitk.org/doxygen/latest/html/DemonsRegistration2_2DemonsRegistration2_8py-example.html\n",
    "4. Registration initializer: we have to start somewhere http://insightsoftwareconsortium.github.io/SimpleITK-Notebooks/Python_html/63_Registration_Initialization.html\n",
    "    - `sitk.CenteredTransformInitializer` assumes image orientation is similar.  \n",
    "5. Demon algorithms in multiresolution setting: https://github.com/InsightSoftwareConsortium/SimpleITK-Notebooks/blob/master/Python/66_Registration_Demons.ipynb from @zivy\n",
    "6. Affine registration:  https://github.com/InsightSoftwareConsortium/SimpleITK-Notebooks/blob/master/Python/61_Registration_Introduction_Continued.ipynb\n",
    "    - About affine parameters: https://itk.org/ITKSoftwareGuide/html/Book2/ITKSoftwareGuide-Book2ch3.html#x26-110175r30"
   ]
  },
  {
   "cell_type": "markdown",
   "metadata": {},
   "source": [
    "### Issues remaining:\n",
    "1. `DisplacementFieldTransform` thing has iteration issues. Doesn't run more than 8. \n",
    "2. Though `FastSymmetricForcesDemonsRegistrationFilter` works great but parameters and all are not understood. "
   ]
  },
  {
   "cell_type": "markdown",
   "metadata": {},
   "source": [
    "`TransformToDisplacementFieldFilter` with `SetMetricAsDemons(1)` where 1 means the difference of 1 in intensity is considered equal pixel, doesn't generate good registration.\n",
    "<!-- ![image.png](attachment:image.png) ![image.png](attachment:image.png) -->"
   ]
  },
  {
   "cell_type": "code",
   "execution_count": null,
   "metadata": {},
   "outputs": [],
   "source": []
  }
 ],
 "metadata": {
  "kernelspec": {
   "display_name": "Python 3 (ipykernel)",
   "language": "python",
   "name": "python3"
  },
  "language_info": {
   "codemirror_mode": {
    "name": "ipython",
    "version": 3
   },
   "file_extension": ".py",
   "mimetype": "text/x-python",
   "name": "python",
   "nbconvert_exporter": "python",
   "pygments_lexer": "ipython3",
   "version": "3.7.12"
  }
 },
 "nbformat": 4,
 "nbformat_minor": 4
}
